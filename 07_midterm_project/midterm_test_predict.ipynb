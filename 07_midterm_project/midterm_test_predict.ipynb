{
 "cells": [
  {
   "cell_type": "code",
   "execution_count": 4,
   "metadata": {},
   "outputs": [],
   "source": [
    "import requests"
   ]
  },
  {
   "cell_type": "code",
   "execution_count": 5,
   "metadata": {},
   "outputs": [],
   "source": [
    "url = \"http://localhost:9696/predict\""
   ]
  },
  {
   "cell_type": "code",
   "execution_count": 15,
   "metadata": {},
   "outputs": [],
   "source": [
    "employee = {\n",
    "    \"age\": 40,\n",
    "    \"gender\": \"male\",\n",
    "    \"years_at_company\": 30,\n",
    "    \"job_role\": \"healthcare\",\n",
    "    \"monthly_income\": 7008,\n",
    "    \"work-life_balance\": \"poor\",\n",
    "    \"job_satisfaction\": \"high\",\n",
    "    \"performance_rating\": \"average\",\n",
    "    \"number_of_promotions\": 0,\n",
    "    \"overtime\": \"no\",\n",
    "    \"distance_from_home\": 460,\n",
    "    \"education_level\": \"associate_degree\",\n",
    "    \"marital_status\": \"married\",\n",
    "    \"number_of_dependents\": 0,\n",
    "    \"job_level\": \"senior\",\n",
    "    \"company_size\": \"large\",\n",
    "    \"company_tenure\": 72,\n",
    "    \"remote_work\": \"no\",\n",
    "    \"leadership_opportunities\": \"no\",\n",
    "    \"innovation_opportunities\": \"no\",\n",
    "    \"company_reputation\": \"fair\",\n",
    "    \"employee_recognition\": \"high\",\n",
    "}"
   ]
  },
  {
   "cell_type": "code",
   "execution_count": 16,
   "metadata": {},
   "outputs": [
    {
     "data": {
      "text/plain": [
       "{'age': 40,\n",
       " 'gender': 'male',\n",
       " 'years_at_company': 30,\n",
       " 'job_role': 'healthcare',\n",
       " 'monthly_income': 7008,\n",
       " 'work-life_balance': 'poor',\n",
       " 'job_satisfaction': 'high',\n",
       " 'performance_rating': 'average',\n",
       " 'number_of_promotions': 0,\n",
       " 'overtime': 'no',\n",
       " 'distance_from_home': 460,\n",
       " 'education_level': 'associate_degree',\n",
       " 'marital_status': 'single',\n",
       " 'number_of_dependents': 0,\n",
       " 'job_level': 'senior',\n",
       " 'company_size': 'large',\n",
       " 'company_tenure': 72,\n",
       " 'remote_work': 'no',\n",
       " 'leadership_opportunities': 'no',\n",
       " 'innovation_opportunities': 'no',\n",
       " 'company_reputation': 'fair',\n",
       " 'employee_recognition': 'high'}"
      ]
     },
     "execution_count": 16,
     "metadata": {},
     "output_type": "execute_result"
    }
   ],
   "source": [
    "employee"
   ]
  },
  {
   "cell_type": "code",
   "execution_count": 17,
   "metadata": {},
   "outputs": [
    {
     "data": {
      "text/plain": [
       "{'attrition': True, 'attrition_probability': 0.5506709814071655}"
      ]
     },
     "execution_count": 17,
     "metadata": {},
     "output_type": "execute_result"
    }
   ],
   "source": [
    "requests.post(url, json=employee).json()"
   ]
  },
  {
   "cell_type": "code",
   "execution_count": null,
   "metadata": {},
   "outputs": [],
   "source": []
  }
 ],
 "metadata": {
  "kernelspec": {
   "display_name": "Python 3 (ipykernel)",
   "language": "python",
   "name": "python3"
  },
  "language_info": {
   "codemirror_mode": {
    "name": "ipython",
    "version": 3
   },
   "file_extension": ".py",
   "mimetype": "text/x-python",
   "name": "python",
   "nbconvert_exporter": "python",
   "pygments_lexer": "ipython3",
   "version": "3.12.7"
  }
 },
 "nbformat": 4,
 "nbformat_minor": 4
}
